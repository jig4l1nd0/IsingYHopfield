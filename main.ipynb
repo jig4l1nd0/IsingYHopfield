{
 "cells": [
  {
   "cell_type": "markdown",
   "metadata": {},
   "source": [
    "# Redes Neuronales 2022-1\n",
    "#### Diana Sanchez , Eber ilagor , Josué Galindo "
   ]
  },
  {
   "cell_type": "markdown",
   "metadata": {},
   "source": [
    "## Problema a resolver: Modelo de Hopfiel de red neuronal (Modelo de Ising via Algoritmo de Metrópolis )"
   ]
  },
  {
   "cell_type": "markdown",
   "metadata": {},
   "source": [
    "Usar el modelo de Ising para simular y estudiar el comportamiento emergente de una red neuronal de Hopfield para cualquier temperatura T"
   ]
  },
  {
   "cell_type": "code",
   "execution_count": 1,
   "metadata": {},
   "outputs": [],
   "source": [
    "# Importamos las funciones de la lirería\n",
    "from hopfield import *"
   ]
  },
  {
   "cell_type": "markdown",
   "metadata": {},
   "source": [
    "Data set de entrenamiento para almacenar en la memoria "
   ]
  },
  {
   "cell_type": "code",
   "execution_count": 2,
   "metadata": {},
   "outputs": [],
   "source": [
    "#tamaño de los inputs es ((((( n x m ))))\n",
    "n=6 #range de i  \n",
    "m=6 #range de j\n",
    "N=m*n   #Número de neuronas\n",
    "T = 1     #temperatura\n",
    "k = 36     #iteraciones\n",
    "\n",
    "InitMat = [\n",
    "               [[0, 1,\t1,\t1,\t1,\t0],\n",
    "                [0,\t1,\t1,\t1,\t1,\t0],\n",
    "                [0,\t1,\t0,\t0,\t1,\t0],\n",
    "                [0,\t1,\t0,\t0,\t1,\t0],\n",
    "                [0,\t1,\t1,\t1,\t1,\t0],\n",
    "                [0,\t1,\t1,\t1,\t0,\t0]]\n",
    "              \n",
    "              ,[[0, 1,\t1,\t1,\t0,\t0],\n",
    "                [0,\t0,\t1,\t1,\t0,\t0],\n",
    "                [0,\t0,\t1,\t1,\t0,\t0],\n",
    "                [0,\t0,\t1,\t1,\t0,\t0],\n",
    "                [0,\t1,\t1,\t1,\t1,\t0],\n",
    "                [1,\t1,\t0,\t0,\t1,\t1]]\n",
    "              ]\n",
    "    "
   ]
  },
  {
   "cell_type": "markdown",
   "metadata": {},
   "source": [
    "Visualizamos"
   ]
  },
  {
   "cell_type": "code",
   "execution_count": 3,
   "metadata": {},
   "outputs": [
    {
     "data": {
      "text/plain": [
       "<matplotlib.image.AxesImage at 0x7fed54efab80>"
      ]
     },
     "execution_count": 3,
     "metadata": {},
     "output_type": "execute_result"
    },
    {
     "data": {
      "image/png": "[encoded data removed]",
      "text/plain": [
       "<Figure size 432x288 with 1 Axes>"
      ]
     },
     "metadata": {
      "needs_background": "light"
     },
     "output_type": "display_data"
    }
   ],
   "source": [
    "import matplotlib.pyplot as plt\n",
    "plt.imshow(InitMat[0])"
   ]
  },
  {
   "cell_type": "code",
   "execution_count": 4,
   "metadata": {},
   "outputs": [
    {
     "data": {
      "text/plain": [
       "<matplotlib.image.AxesImage at 0x7fed4ce40b20>"
      ]
     },
     "execution_count": 4,
     "metadata": {},
     "output_type": "execute_result"
    },
    {
     "data": {
      "image/png": "[encoded data removed]",
      "text/plain": [
       "<Figure size 432x288 with 1 Axes>"
      ]
     },
     "metadata": {
      "needs_background": "light"
     },
     "output_type": "display_data"
    }
   ],
   "source": [
    "plt.imshow(InitMat[1])"
   ]
  },
  {
   "cell_type": "markdown",
   "metadata": {},
   "source": [
    "Transformamos en vectores largos y definimos los valores de las variables"
   ]
  },
  {
   "cell_type": "code",
   "execution_count": 5,
   "metadata": {},
   "outputs": [
    {
     "data": {
      "text/plain": [
       "<matplotlib.image.AxesImage at 0x7fed4cdaf550>"
      ]
     },
     "execution_count": 5,
     "metadata": {},
     "output_type": "execute_result"
    },
    {
     "data": {
      "image/png": "[encoded data removed]",
      "text/plain": [
       "<Figure size 432x288 with 1 Axes>"
      ]
     },
     "metadata": {
      "needs_background": "light"
     },
     "output_type": "display_data"
    }
   ],
   "source": [
    "Conf = [lineal_matrix(mat) for mat in InitMat]     #Configuraciones iniciales  \n",
    "    \n",
    "A = [a(config) for config in Conf] #promedio por configuración\n",
    "f,W_pre = w(Conf,A)   \n",
    "W = f*W_pre  # Matriz de pesos  Graficamos los pesos\n",
    "Th = Theta(W) #threshold\n",
    "plt.imshow(W)"
   ]
  },
  {
   "cell_type": "markdown",
   "metadata": {},
   "source": [
    "Definimos el input de prueba"
   ]
  },
  {
   "cell_type": "code",
   "execution_count": 6,
   "metadata": {},
   "outputs": [
    {
     "data": {
      "image/png": "[encoded data removed]",
      "text/plain": [
       "<Figure size 432x288 with 1 Axes>"
      ]
     },
     "metadata": {
      "needs_background": "light"
     },
     "output_type": "display_data"
    }
   ],
   "source": [
    "Corrupt0 =  [[0, 1,\t1,\t1,\t1,\t0],\n",
    "            [0,\t1,\t1,\t0,\t1,\t0],\n",
    "            [0,\t1,\t0,\t0,\t1,\t0],\n",
    "            [0,\t1,\t0,\t1,\t1,\t0],\n",
    "            [0,\t1,\t1,\t0,\t1,\t1],\n",
    "            [0,\t1,\t1,\t1,\t0,\t0]]\n",
    "\n",
    "plt.imshow(Corrupt0)\n",
    "\n",
    "lineal_corrupt_0 = lineal_matrix(Corrupt0)"
   ]
  },
  {
   "cell_type": "code",
   "execution_count": 7,
   "metadata": {},
   "outputs": [
    {
     "data": {
      "image/png": "[encoded data removed]",
      "text/plain": [
       "<Figure size 432x288 with 1 Axes>"
      ]
     },
     "metadata": {
      "needs_background": "light"
     },
     "output_type": "display_data"
    }
   ],
   "source": [
    "Corrupt1 =  [[0, 1,\t0,\t1,\t0,\t1],\n",
    "            [0,\t0,\t1,\t1,\t0,\t0],\n",
    "            [0,\t0,\t1,\t1,\t0,\t0],\n",
    "            [0,\t0,\t1,\t1,\t0,\t0],\n",
    "            [0,\t1,\t1,\t0,\t1,\t0],\n",
    "            [1,\t1,\t0,\t0,\t1,\t1]]\n",
    "\n",
    "plt.imshow(Corrupt1)\n",
    "\n",
    "lineal_corrupt_1 = lineal_matrix(Corrupt1)"
   ]
  },
  {
   "cell_type": "markdown",
   "metadata": {},
   "source": [
    "Aplicamos el algoritmo "
   ]
  },
  {
   "cell_type": "code",
   "execution_count": 11,
   "metadata": {},
   "outputs": [
    {
     "data": {
      "text/plain": [
       "<matplotlib.image.AxesImage at 0x7fed4cb4b790>"
      ]
     },
     "execution_count": 11,
     "metadata": {},
     "output_type": "execute_result"
    },
    {
     "data": {
      "image/png": "[encoded data removed]",
      "text/plain": [
       "<Figure size 432x288 with 1 Axes>"
      ]
     },
     "metadata": {
      "needs_background": "light"
     },
     "output_type": "display_data"
    }
   ],
   "source": [
    "Hu=H(lineal_corrupt_0,n,m,W)\n",
    "    \n",
    "energias,S,H_fin = Metropolis_Ising(lineal_corrupt_0\n",
    "                                    ,Hu  # energía inicial\n",
    "                                    ,1   # temperatura\n",
    "                                    ,40  # iteraciones\n",
    "                                    ,n,m,W)#Th,W)\n",
    "\n",
    "Uf=array(S).reshape(n,m);    \n",
    "\n",
    "plt.imshow(Uf)"
   ]
  },
  {
   "cell_type": "code",
   "execution_count": 12,
   "metadata": {},
   "outputs": [
    {
     "data": {
      "text/plain": [
       "[<matplotlib.lines.Line2D at 0x7fed4caa0a00>]"
      ]
     },
     "execution_count": 12,
     "metadata": {},
     "output_type": "execute_result"
    },
    {
     "data": {
      "image/png": "[encoded data removed]",
      "text/plain": [
       "<Figure size 432x288 with 1 Axes>"
      ]
     },
     "metadata": {
      "needs_background": "light"
     },
     "output_type": "display_data"
    }
   ],
   "source": [
    "#Graficamos las energías\n",
    "plt.plot(energias)"
   ]
  },
  {
   "cell_type": "code",
   "execution_count": null,
   "metadata": {},
   "outputs": [],
   "source": []
  },
  {
   "cell_type": "code",
   "execution_count": null,
   "metadata": {},
   "outputs": [],
   "source": []
  }
 ],
 "metadata": {
  "kernelspec": {
   "display_name": "Python 3",
   "language": "python",
   "name": "python3"
  },
  "language_info": {
   "codemirror_mode": {
    "name": "ipython",
    "version": 3
   },
   "file_extension": ".py",
   "mimetype": "text/x-python",
   "name": "python",
   "nbconvert_exporter": "python",
   "pygments_lexer": "ipython3",
   "version": "3.8.10"
  }
 },
 "nbformat": 4,
 "nbformat_minor": 2
}
